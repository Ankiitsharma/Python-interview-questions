{
 "cells": [
  {
   "cell_type": "code",
   "execution_count": 6,
   "id": "e9d90588",
   "metadata": {},
   "outputs": [
    {
     "name": "stdout",
     "output_type": "stream",
     "text": [
      "decorator function worked\n",
      "wrapper function worked\n",
      "show function worked\n"
     ]
    }
   ],
   "source": [
    "#Greate example for a decorator\n",
    "\n",
    "def decorator_func(func):\n",
    "    def wrapper_func():\n",
    "        print(\"wrapper function worked\")\n",
    "        return func()\n",
    "    print(\"decorator function worked\")\n",
    "    return wrapper_func\n",
    "\n",
    "def show():\n",
    "    print(\"show function worked\")\n",
    "decorator_show=decorator_func(show)\n",
    "decorator_show()"
   ]
  },
  {
   "cell_type": "code",
   "execution_count": 3,
   "id": "34cfbea1",
   "metadata": {},
   "outputs": [
    {
     "name": "stdout",
     "output_type": "stream",
     "text": [
      "It is not a palindrome number\n"
     ]
    }
   ],
   "source": [
    "#Find if a string is palindrome\n",
    "\n",
    "def palindrome(s):\n",
    "    temp=s[::-1]\n",
    "    if s==temp:\n",
    "        print(\"it is palindrome number\")\n",
    "    else:\n",
    "        print(\"It is not a palindrome number\")\n",
    "\n",
    "s=\"ankit\"\n",
    "palindrome(s)"
   ]
  },
  {
   "cell_type": "code",
   "execution_count": 11,
   "id": "16278f59",
   "metadata": {},
   "outputs": [
    {
     "data": {
      "text/plain": [
       "'Yes'"
      ]
     },
     "execution_count": 11,
     "metadata": {},
     "output_type": "execute_result"
    }
   ],
   "source": [
    "#Find if a number is palindrome\n",
    "\n",
    "def palindrome2(s):\n",
    "    n=len(s)\n",
    "    for i in range(n):\n",
    "        if s[i]!=s[n-i-1]:\n",
    "            return \"No\"\n",
    "    return \"Yes\"\n",
    "        \n",
    "s=\"121\"\n",
    "palindrome2(s)"
   ]
  },
  {
   "cell_type": "code",
   "execution_count": 16,
   "id": "a0a2ee4e",
   "metadata": {},
   "outputs": [
    {
     "name": "stdout",
     "output_type": "stream",
     "text": [
      "1\n",
      "2\n",
      "1\n"
     ]
    },
    {
     "data": {
      "text/plain": [
       "True"
      ]
     },
     "execution_count": 16,
     "metadata": {},
     "output_type": "execute_result"
    }
   ],
   "source": [
    "\n",
    "def palindrome3(n):\n",
    "    temp=n\n",
    "    rev_n=0\n",
    "    while(temp>0):\n",
    "        digit= temp%10\n",
    "        print(digit)\n",
    "        rev_n=rev_n*10+digit\n",
    "        temp=temp//10\n",
    "    if n==rev_n:\n",
    "        return True\n",
    "    else:\n",
    "        return False\n",
    "\n",
    "n=121\n",
    "palindrome3(n)\n",
    "        "
   ]
  },
  {
   "cell_type": "code",
   "execution_count": 30,
   "id": "b9682336",
   "metadata": {},
   "outputs": [
    {
     "name": "stdout",
     "output_type": "stream",
     "text": [
      "0\n",
      "1\n",
      "1\n",
      "2\n",
      "3\n",
      "5\n",
      "8\n"
     ]
    }
   ],
   "source": [
    "#Fibbonacci series\n",
    "\n",
    "def fib(n):\n",
    "    a,b=0,1\n",
    "    print(a)\n",
    "    while (b<n):\n",
    "        print(b)\n",
    "        a,b=b,a+b\n",
    "\n",
    "fib(10)"
   ]
  },
  {
   "cell_type": "code",
   "execution_count": 41,
   "id": "a15b94c0",
   "metadata": {},
   "outputs": [
    {
     "name": "stdout",
     "output_type": "stream",
     "text": [
      "1\n",
      "2\n",
      "Fizz\n",
      "4\n",
      "Buzz\n",
      "Fizz\n",
      "7\n",
      "8\n",
      "Fizz\n",
      "Buzz\n",
      "11\n",
      "Fizz\n",
      "13\n",
      "14\n",
      "FizzBuzz\n"
     ]
    }
   ],
   "source": [
    "def fizzbuzz(n):\n",
    "    for i in range(1,n+1):\n",
    "        if i%3==0 and i%5==0:\n",
    "            print(\"FizzBuzz\")\n",
    "        elif i%3==0:\n",
    "            print(\"Fizz\")\n",
    "        elif i%5==0:\n",
    "            print(\"Buzz\")\n",
    "        else:\n",
    "            print(i)\n",
    "fizzbuzz(15)\n",
    "            \n",
    "            \n",
    "\n",
    "\n",
    "\n",
    "\n"
   ]
  },
  {
   "cell_type": "code",
   "execution_count": 55,
   "id": "6b94276a",
   "metadata": {},
   "outputs": [
    {
     "name": "stdout",
     "output_type": "stream",
     "text": [
      "{'a': 3, 'n': 3, 'k': 1, 'i': 4, 't': 4, 'p': 3}\n",
      "k\n"
     ]
    }
   ],
   "source": [
    "#min character using dict\n",
    "\n",
    "def min_char(s):\n",
    "    d={}\n",
    "    for i in s:\n",
    "        if i in d:\n",
    "            d[i]=d[i]+1\n",
    "        else:\n",
    "            d[i]=1\n",
    "    print(d)\n",
    "    result=min(d, key=d.get)\n",
    "    print(result)\n",
    "\n",
    "\n",
    "s=\"aaannnkiiiittttppp\"    \n",
    "min_char(s)\n",
    "            "
   ]
  },
  {
   "cell_type": "code",
   "execution_count": 54,
   "id": "64403e56",
   "metadata": {},
   "outputs": [
    {
     "name": "stdout",
     "output_type": "stream",
     "text": [
      "Enter the string values: hhhtttddd\n",
      "Min characters in string  h\n"
     ]
    }
   ],
   "source": [
    "#Min chacarter finding in a string.\n",
    "\n",
    "from collections import Counter\n",
    "s=input(\"Enter the string values: \")\n",
    "ch=Counter(s)\n",
    "result=min(ch, key=ch.get)\n",
    "print(\"Min characters in string \",result)"
   ]
  },
  {
   "cell_type": "code",
   "execution_count": 6,
   "id": "c06f4d80",
   "metadata": {},
   "outputs": [
    {
     "name": "stdout",
     "output_type": "stream",
     "text": [
      "{'a': 3, 'n': 3, 'k': 1, 'i': 4, 't': 4, 'p': 3}\n",
      "4\n"
     ]
    }
   ],
   "source": [
    "#How many times a chacacter in a string\n",
    "\n",
    "def count_char(s,serch_ch):\n",
    "    d={}\n",
    "    for i in s:\n",
    "        if i in d:\n",
    "            d[i]=d[i]+1\n",
    "        else:\n",
    "            d[i]=1\n",
    "    print(d)\n",
    "    try:\n",
    "        print(d[serch_ch])\n",
    "    except:\n",
    "        print(\"0\")\n",
    "\n",
    "\n",
    "s=\"aaannnkiiiittttppp\"    \n",
    "count_char(s,\"i\")\n",
    "            "
   ]
  },
  {
   "cell_type": "code",
   "execution_count": 34,
   "id": "4e5ce1e7",
   "metadata": {},
   "outputs": [
    {
     "name": "stdout",
     "output_type": "stream",
     "text": [
      "Yes the number is Prime\n"
     ]
    }
   ],
   "source": [
    "#Finding prime number\n",
    "\n",
    "def prime_num(s):\n",
    "    flag=\"\"\n",
    "    if s>1:\n",
    "        for i in range(2,(s//2+1)):\n",
    "            if s%i==0:\n",
    "                flag=\"No\"\n",
    "                break\n",
    "    if flag==\"No\":\n",
    "        return \"No the number is not Prime\"\n",
    "    else:\n",
    "        return \"Yes the number is Prime\"\n",
    "print(prime_num(13))"
   ]
  },
  {
   "cell_type": "code",
   "execution_count": 51,
   "id": "01bc5333",
   "metadata": {},
   "outputs": [
    {
     "name": "stdout",
     "output_type": "stream",
     "text": [
      "2\n",
      "3\n",
      "5\n",
      "7\n",
      "11\n",
      "13\n",
      "17\n",
      "19\n"
     ]
    }
   ],
   "source": [
    "#Finding prime number\n",
    "def prime_num(s,e):\n",
    "    for i in range(s,e):\n",
    "        if i>1:\n",
    "            for j in range(2,i):\n",
    "                if i%j==0:\n",
    "                    break\n",
    "            else:\n",
    "                print(i)\n",
    "prime_num(1,23)"
   ]
  },
  {
   "cell_type": "code",
   "execution_count": 53,
   "id": "0066b471",
   "metadata": {},
   "outputs": [
    {
     "name": "stdout",
     "output_type": "stream",
     "text": [
      "i.aM.A.CODER\n"
     ]
    }
   ],
   "source": [
    "#String manipilation\n",
    "def string_man(s):\n",
    "    l=[]\n",
    "    temp=s.split('_')\n",
    "    for i in temp:\n",
    "        l.append(i.swapcase())\n",
    "    s='.'.join(l)\n",
    "    print(s)\n",
    "string_man(\"I_Am_a_coder\")"
   ]
  },
  {
   "cell_type": "code",
   "execution_count": 62,
   "id": "ff02e820",
   "metadata": {},
   "outputs": [
    {
     "data": {
      "text/plain": [
       "200"
      ]
     },
     "execution_count": 62,
     "metadata": {},
     "output_type": "execute_result"
    }
   ],
   "source": [
    "# find 2nd highest number\n",
    "\n",
    "def second_highest(i):\n",
    "    if i[0]>i[1]:\n",
    "        first=i[0]\n",
    "        second=i[1]\n",
    "    else:\n",
    "        first=i[1]\n",
    "        second=i[0]\n",
    "    for j in range(2,len(i)):\n",
    "        if i[j]>first:\n",
    "            second=first\n",
    "            first=i[j]\n",
    "        elif i[j]>second:\n",
    "            second=i[j]\n",
    "    return second\n",
    "\n",
    "\n",
    "i=[10,5,70,80,200,500]\n",
    "second_highest(i)"
   ]
  },
  {
   "cell_type": "code",
   "execution_count": 67,
   "id": "5277a8fa",
   "metadata": {},
   "outputs": [
    {
     "name": "stdout",
     "output_type": "stream",
     "text": [
      "yes\n"
     ]
    }
   ],
   "source": [
    "#List of armstrong numbers\n",
    "\n",
    "def armstrong(n):\n",
    "    sum=0\n",
    "    temp=n\n",
    "    while temp>0:\n",
    "        digit=temp%10\n",
    "        sum=sum+(digit**3)\n",
    "        temp=temp//10\n",
    "        \n",
    "    if n==sum:\n",
    "        print(\"yes\")\n",
    "    else:\n",
    "        print(\"No bro\")\n",
    "armstrong(371)"
   ]
  },
  {
   "cell_type": "code",
   "execution_count": 79,
   "id": "40f85136",
   "metadata": {},
   "outputs": [
    {
     "name": "stdout",
     "output_type": "stream",
     "text": [
      "1\n",
      "153\n",
      "370\n",
      "371\n",
      "407\n"
     ]
    }
   ],
   "source": [
    "# find all the armstrong numbers\n",
    "\n",
    "def armstrong(s,e):\n",
    "    for n in range(s,e):\n",
    "        sum=0\n",
    "        temp=n\n",
    "        while temp>0:\n",
    "            digit=temp%10\n",
    "            sum=sum+(digit**3)\n",
    "            temp=temp//10\n",
    "\n",
    "        if n==sum:\n",
    "            print(n)\n",
    "armstrong(1,500)"
   ]
  },
  {
   "cell_type": "code",
   "execution_count": 76,
   "id": "861d3bd6",
   "metadata": {},
   "outputs": [
    {
     "data": {
      "text/plain": [
       "371"
      ]
     },
     "execution_count": 76,
     "metadata": {},
     "output_type": "execute_result"
    }
   ],
   "source": [
    "#Sum of all the numbers\n",
    "\n",
    "def armstrong(n):\n",
    "    for n in range():\n",
    "        sum=0\n",
    "        temp=n\n",
    "        while temp>0:\n",
    "            digit=temp%10\n",
    "            sum=sum+(digit**3)\n",
    "            temp=temp//10\n",
    "\n",
    "        if n==sum:\n",
    "            print(n)\n",
    "armstrong(1,500)"
   ]
  },
  {
   "cell_type": "code",
   "execution_count": 72,
   "id": "f2ba8d74",
   "metadata": {},
   "outputs": [
    {
     "data": {
      "text/plain": [
       "343"
      ]
     },
     "execution_count": 72,
     "metadata": {},
     "output_type": "execute_result"
    }
   ],
   "source": [
    "7**3"
   ]
  },
  {
   "cell_type": "code",
   "execution_count": 80,
   "id": "b43d2fc8",
   "metadata": {},
   "outputs": [],
   "source": [
    "import math"
   ]
  },
  {
   "cell_type": "code",
   "execution_count": 82,
   "id": "a7de22f5",
   "metadata": {},
   "outputs": [
    {
     "name": "stdout",
     "output_type": "stream",
     "text": [
      "ArithmeticError\n",
      "AssertionError\n",
      "AttributeError\n",
      "BaseException\n",
      "BlockingIOError\n",
      "BrokenPipeError\n",
      "BufferError\n",
      "BytesWarning\n",
      "ChildProcessError\n",
      "ConnectionAbortedError\n",
      "ConnectionError\n",
      "ConnectionRefusedError\n",
      "ConnectionResetError\n",
      "DeprecationWarning\n",
      "EOFError\n",
      "Ellipsis\n",
      "EncodingWarning\n",
      "EnvironmentError\n",
      "Exception\n",
      "False\n",
      "FileExistsError\n",
      "FileNotFoundError\n",
      "FloatingPointError\n",
      "FutureWarning\n",
      "GeneratorExit\n",
      "IOError\n",
      "ImportError\n",
      "ImportWarning\n",
      "IndentationError\n",
      "IndexError\n",
      "InterruptedError\n",
      "IsADirectoryError\n",
      "KeyError\n",
      "KeyboardInterrupt\n",
      "LookupError\n",
      "MemoryError\n",
      "ModuleNotFoundError\n",
      "NameError\n",
      "None\n",
      "NotADirectoryError\n",
      "NotImplemented\n",
      "NotImplementedError\n",
      "OSError\n",
      "OverflowError\n",
      "PendingDeprecationWarning\n",
      "PermissionError\n",
      "ProcessLookupError\n",
      "RecursionError\n",
      "ReferenceError\n",
      "ResourceWarning\n",
      "RuntimeError\n",
      "RuntimeWarning\n",
      "StopAsyncIteration\n",
      "StopIteration\n",
      "SyntaxError\n",
      "SyntaxWarning\n",
      "SystemError\n",
      "SystemExit\n",
      "TabError\n",
      "TimeoutError\n",
      "True\n",
      "TypeError\n",
      "UnboundLocalError\n",
      "UnicodeDecodeError\n",
      "UnicodeEncodeError\n",
      "UnicodeError\n",
      "UnicodeTranslateError\n",
      "UnicodeWarning\n",
      "UserWarning\n",
      "ValueError\n",
      "Warning\n",
      "WindowsError\n",
      "ZeroDivisionError\n",
      "__IPYTHON__\n",
      "__build_class__\n",
      "__debug__\n",
      "__doc__\n",
      "__import__\n",
      "__loader__\n",
      "__name__\n",
      "__package__\n",
      "__spec__\n",
      "abs\n",
      "aiter\n",
      "all\n",
      "anext\n",
      "any\n",
      "ascii\n",
      "bin\n",
      "bool\n",
      "breakpoint\n",
      "bytearray\n",
      "bytes\n",
      "callable\n",
      "chr\n",
      "classmethod\n",
      "compile\n",
      "complex\n",
      "copyright\n",
      "credits\n",
      "delattr\n",
      "dict\n",
      "dir\n",
      "display\n",
      "divmod\n",
      "enumerate\n",
      "eval\n",
      "exec\n",
      "execfile\n",
      "filter\n",
      "float\n",
      "format\n",
      "frozenset\n",
      "get_ipython\n",
      "getattr\n",
      "globals\n",
      "hasattr\n",
      "hash\n",
      "help\n",
      "hex\n",
      "id\n",
      "input\n",
      "int\n",
      "isinstance\n",
      "issubclass\n",
      "iter\n",
      "len\n",
      "license\n",
      "list\n",
      "locals\n",
      "map\n",
      "max\n",
      "memoryview\n",
      "min\n",
      "next\n",
      "object\n",
      "oct\n",
      "open\n",
      "ord\n",
      "pow\n",
      "print\n",
      "property\n",
      "range\n",
      "repr\n",
      "reversed\n",
      "round\n",
      "runfile\n",
      "set\n",
      "setattr\n",
      "slice\n",
      "sorted\n",
      "staticmethod\n",
      "str\n",
      "sum\n",
      "super\n",
      "tuple\n",
      "type\n",
      "vars\n",
      "zip\n"
     ]
    }
   ],
   "source": [
    "for i in (dir(__builtins__)):\n",
    "    print(i)"
   ]
  },
  {
   "cell_type": "code",
   "execution_count": 83,
   "id": "d0a74458",
   "metadata": {},
   "outputs": [],
   "source": [
    "import keyword"
   ]
  },
  {
   "cell_type": "code",
   "execution_count": 86,
   "id": "5c7c04ab",
   "metadata": {},
   "outputs": [
    {
     "name": "stdout",
     "output_type": "stream",
     "text": [
      "False\n",
      "None\n",
      "True\n",
      "and\n",
      "as\n",
      "assert\n",
      "async\n",
      "await\n",
      "break\n",
      "class\n",
      "continue\n",
      "def\n",
      "del\n",
      "elif\n",
      "else\n",
      "except\n",
      "finally\n",
      "for\n",
      "from\n",
      "global\n",
      "if\n",
      "import\n",
      "in\n",
      "is\n",
      "lambda\n",
      "nonlocal\n",
      "not\n",
      "or\n",
      "pass\n",
      "raise\n",
      "return\n",
      "try\n",
      "while\n",
      "with\n",
      "yield\n"
     ]
    }
   ],
   "source": [
    "for i in keyword.kwlist:\n",
    "    print(i)"
   ]
  },
  {
   "cell_type": "code",
   "execution_count": 98,
   "id": "68e4a2ed",
   "metadata": {},
   "outputs": [
    {
     "data": {
      "text/plain": [
       "120"
      ]
     },
     "execution_count": 98,
     "metadata": {},
     "output_type": "execute_result"
    }
   ],
   "source": [
    "import math\n",
    "math.factorial(5)"
   ]
  },
  {
   "cell_type": "code",
   "execution_count": 128,
   "id": "1bc81ed4",
   "metadata": {},
   "outputs": [
    {
     "name": "stdout",
     "output_type": "stream",
     "text": [
      "0\n",
      "1\n",
      "1\n",
      "2\n"
     ]
    }
   ],
   "source": [
    "def fib_num(n):\n",
    "    a=0\n",
    "    b=1\n",
    "    print(a)\n",
    "    for i in range (1,n):\n",
    "        if b<n:\n",
    "            print(b)\n",
    "            a,b=b,a+b\n",
    "            \n",
    "fib_num(4)"
   ]
  },
  {
   "cell_type": "code",
   "execution_count": 134,
   "id": "89550d4e",
   "metadata": {},
   "outputs": [
    {
     "name": "stdout",
     "output_type": "stream",
     "text": [
      "120\n"
     ]
    }
   ],
   "source": [
    "#Factorial Number finding\n",
    "\n",
    "def factorial(n):\n",
    "    facto=1\n",
    "    for i in range(1,n+1):\n",
    "        facto=facto*i\n",
    "    print(facto)\n",
    "factorial(5)"
   ]
  },
  {
   "cell_type": "code",
   "execution_count": null,
   "id": "4878c311",
   "metadata": {},
   "outputs": [],
   "source": []
  }
 ],
 "metadata": {
  "kernelspec": {
   "display_name": "Python 3 (ipykernel)",
   "language": "python",
   "name": "python3"
  },
  "language_info": {
   "codemirror_mode": {
    "name": "ipython",
    "version": 3
   },
   "file_extension": ".py",
   "mimetype": "text/x-python",
   "name": "python",
   "nbconvert_exporter": "python",
   "pygments_lexer": "ipython3",
   "version": "3.10.0"
  }
 },
 "nbformat": 4,
 "nbformat_minor": 5
}
